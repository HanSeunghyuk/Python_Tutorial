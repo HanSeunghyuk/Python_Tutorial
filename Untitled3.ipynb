{
 "cells": [
  {
   "cell_type": "markdown",
   "id": "c52a425c",
   "metadata": {},
   "source": [
    "Archemetic Operators"
   ]
  },
  {
   "cell_type": "code",
   "execution_count": 9,
   "id": "456c4e68",
   "metadata": {},
   "outputs": [],
   "source": [
    "result1 = 5 + 3\n",
    "result2 = 9 - 4 \n",
    "result3 = 2 * 3 \n",
    "result4 = 8 / 2"
   ]
  },
  {
   "cell_type": "markdown",
   "id": "598c54da",
   "metadata": {},
   "source": [
    "Comparison Operators"
   ]
  },
  {
   "cell_type": "code",
   "execution_count": 10,
   "id": "a5adb265",
   "metadata": {},
   "outputs": [],
   "source": [
    "result5 = 5 > 3\n",
    "result6 = 5 == 3"
   ]
  },
  {
   "cell_type": "markdown",
   "id": "c2215caa",
   "metadata": {},
   "source": [
    "Assignment Operators"
   ]
  },
  {
   "cell_type": "code",
   "execution_count": 11,
   "id": "1dcb6fab",
   "metadata": {},
   "outputs": [],
   "source": [
    "a = 10\n",
    "a += 5\n",
    "b = 7\n",
    "b *= 2"
   ]
  },
  {
   "cell_type": "markdown",
   "id": "52e098c4",
   "metadata": {},
   "source": [
    "Logical Operators"
   ]
  },
  {
   "cell_type": "code",
   "execution_count": 12,
   "id": "9744b940",
   "metadata": {},
   "outputs": [],
   "source": [
    "result7 = True and False\n",
    "result8 = True or False\n",
    "result9 = not True"
   ]
  },
  {
   "cell_type": "markdown",
   "id": "c686d523",
   "metadata": {},
   "source": [
    "Membership Operators"
   ]
  },
  {
   "cell_type": "code",
   "execution_count": 13,
   "id": "1401ccf3",
   "metadata": {},
   "outputs": [],
   "source": [
    "result10 = 3 in [1, 2, 3, 4] \n",
    "result11 = 5 in [1, 2, 3, 4]"
   ]
  },
  {
   "cell_type": "markdown",
   "id": "f533a676",
   "metadata": {},
   "source": [
    "Identity Operators"
   ]
  },
  {
   "cell_type": "code",
   "execution_count": 14,
   "id": "031eb491",
   "metadata": {},
   "outputs": [],
   "source": [
    "result12 = type(\"5\") is int\n",
    "result13 = type(\"hello\") is not int"
   ]
  },
  {
   "cell_type": "markdown",
   "id": "a73cd6b0",
   "metadata": {},
   "source": [
    "Print Result"
   ]
  },
  {
   "cell_type": "code",
   "execution_count": 15,
   "id": "2b700e93",
   "metadata": {},
   "outputs": [
    {
     "name": "stdout",
     "output_type": "stream",
     "text": [
      "8 5 6 4.0\n",
      "True False\n",
      "15 14\n",
      "False True False\n",
      "True False\n",
      "False True\n"
     ]
    }
   ],
   "source": [
    "print(result1, result2, result3, result4)\n",
    "print(result5, result6)\n",
    "print(a, b)\n",
    "print(result7, result8, result9)\n",
    "print(result10, result11)\n",
    "print(result12, result13)"
   ]
  }
 ],
 "metadata": {
  "kernelspec": {
   "display_name": "Python 3 (ipykernel)",
   "language": "python",
   "name": "python3"
  },
  "language_info": {
   "codemirror_mode": {
    "name": "ipython",
    "version": 3
   },
   "file_extension": ".py",
   "mimetype": "text/x-python",
   "name": "python",
   "nbconvert_exporter": "python",
   "pygments_lexer": "ipython3",
   "version": "3.9.16"
  },
  "toc": {
   "base_numbering": 1,
   "nav_menu": {},
   "number_sections": true,
   "sideBar": true,
   "skip_h1_title": false,
   "title_cell": "Table of Contents",
   "title_sidebar": "Contents",
   "toc_cell": false,
   "toc_position": {},
   "toc_section_display": true,
   "toc_window_display": false
  }
 },
 "nbformat": 4,
 "nbformat_minor": 5
}
